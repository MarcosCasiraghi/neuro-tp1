{
 "nbformat": 4,
 "nbformat_minor": 0,
 "metadata": {
  "colab": {
   "provenance": []
  },
  "kernelspec": {
   "name": "python3",
   "language": "python",
   "display_name": "Python 3 (ipykernel)"
  },
  "language_info": {
   "name": "python"
  }
 },
 "cells": [
  {
   "cell_type": "markdown",
   "source": [
    "# Ejercicio 1"
   ],
   "metadata": {
    "id": "ZPz3G8GdQ6ii"
   }
  },
  {
   "cell_type": "markdown",
   "source": [
    "### Introduccion"
   ],
   "metadata": {
    "id": "hMtiKw_hQ_KP"
   }
  },
  {
   "cell_type": "markdown",
   "source": [
    "El dataset que subimos consiste en un diccionario que consta de tres elementos:\n",
    "\n",
    "`tiempos_disparos` es una lista de 1000 elementos. Cada elemento corresponde a los tiempos de disparo de una neurona (unidades en $s$).\n",
    "\n",
    "`velocidades` es un vector con valores de velocidad en el tiempo (unidades en $m/s$).\n",
    "\n",
    "`tiempos_velocidades` es un vector de tiempos correspondiente a cada valor de velocidad (unidades en $s$).\n",
    "\n",
    "El dataset fue simulado generando un vector de velocidad de forma aleatoria (de tipo *random walk* gaussiano) y trenes de disparos independientes provenientes de un proceso de Poisson no estacionario (para quienes le interese, ya lo vamos a ver pero [aca](https://elephant.readthedocs.io/en/latest/index.html) pueden aprender de una libreria muy piola para hacerlo). Esto ultimo quiere decir que generamos disparos de neuronas independientes mediante distribuciones de Poisson cuyas medias de disparo $\\lambda$ variaban en el tiempo en funcion de la velocidad $v$ siguiendo un modelo mas o menos como este\n",
    "\n",
    "\n",
    "\n",
    "$$\\lambda_i(v) = r_i + \\alpha_i\\left[v-v_{i}^{th}\\right]^+ $$\n",
    "\n",
    "donde la operacion $[\\alpha]^+=\\alpha$ si $\\alpha>0$ y $[\\alpha]^+=0$ si $\\alpha<0$. Lo importante es que es un modelo de respuesta lineal a la velocidad, algo relativamente verosimil a lo que se ve en varios tipos de neuronas que codifican velocidad en distintas partes del cerebro (aunque bastante muy de juguete).\n",
    "\n",
    "La idea de este ejercicio es que sea bastante guiado para que tengan un primer appoach algo metodico para ver y aplicar PCA, pero la posta va a estar en el ejercicio 2."
   ],
   "metadata": {
    "id": "QVPNOwyOaEcd"
   }
  },
  {
   "cell_type": "markdown",
   "source": [
    "### Importamos librerias utiles (pueden usar las que quieran)"
   ],
   "metadata": {
    "id": "lrooHRLXRvLi"
   }
  },
  {
   "cell_type": "code",
   "source": [
    "import numpy as np\n",
    "import matplotlib.pylab as plt"
   ],
   "metadata": {
    "id": "vR744Dd4RqoC",
    "ExecuteTime": {
     "end_time": "2024-03-28T19:03:52.120793300Z",
     "start_time": "2024-03-28T19:03:51.358601500Z"
    }
   },
   "execution_count": 2,
   "outputs": []
  },
  {
   "cell_type": "markdown",
   "source": [
    "#### Primero, descarguen la data y carguenla en el notebook."
   ],
   "metadata": {
    "id": "6oVXwnuCgREo"
   }
  },
  {
   "cell_type": "code",
   "source": [
    "import pickle\n",
    "mypath = \"./\" #aca pongan la direccion del archivo\n",
    "\n",
    "with open(mypath+'DataTP1.pkl', 'rb') as fp:\n",
    "    data = pickle.load(fp)"
   ],
   "metadata": {
    "id": "Qh8R120rW3eD",
    "ExecuteTime": {
     "end_time": "2024-03-28T19:04:00.786675900Z",
     "start_time": "2024-03-28T19:04:00.754365200Z"
    }
   },
   "execution_count": 3,
   "outputs": []
  },
  {
   "cell_type": "code",
   "source": [
    "tiempos_disparos = data['tiempos_disparos']\n",
    "tiempos_velocidades = data['tiempos_velocidades']\n",
    "velocidades = data['velocidades']"
   ],
   "metadata": {
    "id": "a285OAz3SHLo",
    "ExecuteTime": {
     "end_time": "2024-03-28T19:04:03.691958400Z",
     "start_time": "2024-03-28T19:04:03.687828Z"
    }
   },
   "execution_count": 4,
   "outputs": []
  },
  {
   "cell_type": "markdown",
   "source": [
    "## Inciso (a)\n",
    "\n",
    "- Realizar un rasterplot de los trenes de disparo en el tiempo\n",
    "- Visualizar velocidad vs. tiempo"
   ],
   "metadata": {
    "id": "dE5evCwpPorY"
   }
  },
  {
   "cell_type": "code",
   "execution_count": 22,
   "outputs": [
    {
     "ename": "ValueError",
     "evalue": "linelengths and positions are unequal sized sequences",
     "output_type": "error",
     "traceback": [
      "\u001B[1;31m---------------------------------------------------------------------------\u001B[0m",
      "\u001B[1;31mValueError\u001B[0m                                Traceback (most recent call last)",
      "Cell \u001B[1;32mIn[22], line 5\u001B[0m\n\u001B[0;32m      2\u001B[0m velocidades \u001B[38;5;241m=\u001B[39m velocidades\u001B[38;5;241m.\u001B[39mtolist()\n\u001B[0;32m      4\u001B[0m plt\u001B[38;5;241m.\u001B[39mfigure(figsize\u001B[38;5;241m=\u001B[39m(\u001B[38;5;241m8\u001B[39m, \u001B[38;5;241m4\u001B[39m))\n\u001B[1;32m----> 5\u001B[0m \u001B[43mplt\u001B[49m\u001B[38;5;241;43m.\u001B[39;49m\u001B[43meventplot\u001B[49m\u001B[43m(\u001B[49m\n\u001B[0;32m      6\u001B[0m \u001B[43m    \u001B[49m\u001B[43mpositions\u001B[49m\u001B[38;5;241;43m=\u001B[39;49m\u001B[43mtiempos_velocidades\u001B[49m\u001B[43m,\u001B[49m\u001B[43m \u001B[49m\n\u001B[0;32m      7\u001B[0m \u001B[43m    \u001B[49m\u001B[43mlineoffsets\u001B[49m\u001B[38;5;241;43m=\u001B[39;49m\u001B[38;5;241;43m0\u001B[39;49m\u001B[43m,\u001B[49m\u001B[43m \u001B[49m\n\u001B[0;32m      8\u001B[0m \u001B[43m    \u001B[49m\u001B[43mlinelengths\u001B[49m\u001B[38;5;241;43m=\u001B[39;49m\u001B[43mvelocidades\u001B[49m\u001B[43m,\u001B[49m\u001B[43m \u001B[49m\n\u001B[0;32m      9\u001B[0m \u001B[43m    \u001B[49m\u001B[43mcolors\u001B[49m\u001B[38;5;241;43m=\u001B[39;49m\u001B[38;5;124;43m'\u001B[39;49m\u001B[38;5;124;43mblue\u001B[39;49m\u001B[38;5;124;43m'\u001B[39;49m\n\u001B[0;32m     10\u001B[0m \u001B[43m)\u001B[49m  \n\u001B[0;32m     11\u001B[0m plt\u001B[38;5;241m.\u001B[39mylabel(\u001B[38;5;124m'\u001B[39m\u001B[38;5;124mVelocidad\u001B[39m\u001B[38;5;124m'\u001B[39m)\n\u001B[0;32m     12\u001B[0m plt\u001B[38;5;241m.\u001B[39mxlabel(\u001B[38;5;124m'\u001B[39m\u001B[38;5;124mTiempo\u001B[39m\u001B[38;5;124m'\u001B[39m)\n",
      "File \u001B[1;32m~\\Documents\\ITBA\\Primer Cuatrimestre 2024\\SS\\Tps\\ss-tp2\\tp1\\Lib\\site-packages\\matplotlib\\pyplot.py:3078\u001B[0m, in \u001B[0;36meventplot\u001B[1;34m(positions, orientation, lineoffsets, linelengths, linewidths, colors, alpha, linestyles, data, **kwargs)\u001B[0m\n\u001B[0;32m   3064\u001B[0m \u001B[38;5;129m@_copy_docstring_and_deprecators\u001B[39m(Axes\u001B[38;5;241m.\u001B[39meventplot)\n\u001B[0;32m   3065\u001B[0m \u001B[38;5;28;01mdef\u001B[39;00m \u001B[38;5;21meventplot\u001B[39m(\n\u001B[0;32m   3066\u001B[0m     positions: ArrayLike \u001B[38;5;241m|\u001B[39m Sequence[ArrayLike],\n\u001B[1;32m   (...)\u001B[0m\n\u001B[0;32m   3076\u001B[0m     \u001B[38;5;241m*\u001B[39m\u001B[38;5;241m*\u001B[39mkwargs,\n\u001B[0;32m   3077\u001B[0m ) \u001B[38;5;241m-\u001B[39m\u001B[38;5;241m>\u001B[39m EventCollection:\n\u001B[1;32m-> 3078\u001B[0m     \u001B[38;5;28;01mreturn\u001B[39;00m \u001B[43mgca\u001B[49m\u001B[43m(\u001B[49m\u001B[43m)\u001B[49m\u001B[38;5;241;43m.\u001B[39;49m\u001B[43meventplot\u001B[49m\u001B[43m(\u001B[49m\n\u001B[0;32m   3079\u001B[0m \u001B[43m        \u001B[49m\u001B[43mpositions\u001B[49m\u001B[43m,\u001B[49m\n\u001B[0;32m   3080\u001B[0m \u001B[43m        \u001B[49m\u001B[43morientation\u001B[49m\u001B[38;5;241;43m=\u001B[39;49m\u001B[43morientation\u001B[49m\u001B[43m,\u001B[49m\n\u001B[0;32m   3081\u001B[0m \u001B[43m        \u001B[49m\u001B[43mlineoffsets\u001B[49m\u001B[38;5;241;43m=\u001B[39;49m\u001B[43mlineoffsets\u001B[49m\u001B[43m,\u001B[49m\n\u001B[0;32m   3082\u001B[0m \u001B[43m        \u001B[49m\u001B[43mlinelengths\u001B[49m\u001B[38;5;241;43m=\u001B[39;49m\u001B[43mlinelengths\u001B[49m\u001B[43m,\u001B[49m\n\u001B[0;32m   3083\u001B[0m \u001B[43m        \u001B[49m\u001B[43mlinewidths\u001B[49m\u001B[38;5;241;43m=\u001B[39;49m\u001B[43mlinewidths\u001B[49m\u001B[43m,\u001B[49m\n\u001B[0;32m   3084\u001B[0m \u001B[43m        \u001B[49m\u001B[43mcolors\u001B[49m\u001B[38;5;241;43m=\u001B[39;49m\u001B[43mcolors\u001B[49m\u001B[43m,\u001B[49m\n\u001B[0;32m   3085\u001B[0m \u001B[43m        \u001B[49m\u001B[43malpha\u001B[49m\u001B[38;5;241;43m=\u001B[39;49m\u001B[43malpha\u001B[49m\u001B[43m,\u001B[49m\n\u001B[0;32m   3086\u001B[0m \u001B[43m        \u001B[49m\u001B[43mlinestyles\u001B[49m\u001B[38;5;241;43m=\u001B[39;49m\u001B[43mlinestyles\u001B[49m\u001B[43m,\u001B[49m\n\u001B[0;32m   3087\u001B[0m \u001B[43m        \u001B[49m\u001B[38;5;241;43m*\u001B[39;49m\u001B[38;5;241;43m*\u001B[39;49m\u001B[43m(\u001B[49m\u001B[43m{\u001B[49m\u001B[38;5;124;43m\"\u001B[39;49m\u001B[38;5;124;43mdata\u001B[39;49m\u001B[38;5;124;43m\"\u001B[39;49m\u001B[43m:\u001B[49m\u001B[43m \u001B[49m\u001B[43mdata\u001B[49m\u001B[43m}\u001B[49m\u001B[43m \u001B[49m\u001B[38;5;28;43;01mif\u001B[39;49;00m\u001B[43m \u001B[49m\u001B[43mdata\u001B[49m\u001B[43m \u001B[49m\u001B[38;5;129;43;01mis\u001B[39;49;00m\u001B[43m \u001B[49m\u001B[38;5;129;43;01mnot\u001B[39;49;00m\u001B[43m \u001B[49m\u001B[38;5;28;43;01mNone\u001B[39;49;00m\u001B[43m \u001B[49m\u001B[38;5;28;43;01melse\u001B[39;49;00m\u001B[43m \u001B[49m\u001B[43m{\u001B[49m\u001B[43m}\u001B[49m\u001B[43m)\u001B[49m\u001B[43m,\u001B[49m\n\u001B[0;32m   3088\u001B[0m \u001B[43m        \u001B[49m\u001B[38;5;241;43m*\u001B[39;49m\u001B[38;5;241;43m*\u001B[39;49m\u001B[43mkwargs\u001B[49m\u001B[43m,\u001B[49m\n\u001B[0;32m   3089\u001B[0m \u001B[43m    \u001B[49m\u001B[43m)\u001B[49m\n",
      "File \u001B[1;32m~\\Documents\\ITBA\\Primer Cuatrimestre 2024\\SS\\Tps\\ss-tp2\\tp1\\Lib\\site-packages\\matplotlib\\__init__.py:1478\u001B[0m, in \u001B[0;36m_preprocess_data.<locals>.inner\u001B[1;34m(ax, data, *args, **kwargs)\u001B[0m\n\u001B[0;32m   1475\u001B[0m \u001B[38;5;129m@functools\u001B[39m\u001B[38;5;241m.\u001B[39mwraps(func)\n\u001B[0;32m   1476\u001B[0m \u001B[38;5;28;01mdef\u001B[39;00m \u001B[38;5;21minner\u001B[39m(ax, \u001B[38;5;241m*\u001B[39margs, data\u001B[38;5;241m=\u001B[39m\u001B[38;5;28;01mNone\u001B[39;00m, \u001B[38;5;241m*\u001B[39m\u001B[38;5;241m*\u001B[39mkwargs):\n\u001B[0;32m   1477\u001B[0m     \u001B[38;5;28;01mif\u001B[39;00m data \u001B[38;5;129;01mis\u001B[39;00m \u001B[38;5;28;01mNone\u001B[39;00m:\n\u001B[1;32m-> 1478\u001B[0m         \u001B[38;5;28;01mreturn\u001B[39;00m \u001B[43mfunc\u001B[49m\u001B[43m(\u001B[49m\u001B[43max\u001B[49m\u001B[43m,\u001B[49m\u001B[43m \u001B[49m\u001B[38;5;241;43m*\u001B[39;49m\u001B[38;5;28;43mmap\u001B[39;49m\u001B[43m(\u001B[49m\u001B[43msanitize_sequence\u001B[49m\u001B[43m,\u001B[49m\u001B[43m \u001B[49m\u001B[43margs\u001B[49m\u001B[43m)\u001B[49m\u001B[43m,\u001B[49m\u001B[43m \u001B[49m\u001B[38;5;241;43m*\u001B[39;49m\u001B[38;5;241;43m*\u001B[39;49m\u001B[43mkwargs\u001B[49m\u001B[43m)\u001B[49m\n\u001B[0;32m   1480\u001B[0m     bound \u001B[38;5;241m=\u001B[39m new_sig\u001B[38;5;241m.\u001B[39mbind(ax, \u001B[38;5;241m*\u001B[39margs, \u001B[38;5;241m*\u001B[39m\u001B[38;5;241m*\u001B[39mkwargs)\n\u001B[0;32m   1481\u001B[0m     auto_label \u001B[38;5;241m=\u001B[39m (bound\u001B[38;5;241m.\u001B[39marguments\u001B[38;5;241m.\u001B[39mget(label_namer)\n\u001B[0;32m   1482\u001B[0m                   \u001B[38;5;129;01mor\u001B[39;00m bound\u001B[38;5;241m.\u001B[39mkwargs\u001B[38;5;241m.\u001B[39mget(label_namer))\n",
      "File \u001B[1;32m~\\Documents\\ITBA\\Primer Cuatrimestre 2024\\SS\\Tps\\ss-tp2\\tp1\\Lib\\site-packages\\matplotlib\\axes\\_axes.py:1421\u001B[0m, in \u001B[0;36mAxes.eventplot\u001B[1;34m(self, positions, orientation, lineoffsets, linelengths, linewidths, colors, alpha, linestyles, **kwargs)\u001B[0m\n\u001B[0;32m   1418\u001B[0m     \u001B[38;5;28;01mraise\u001B[39;00m \u001B[38;5;167;01mValueError\u001B[39;00m(\u001B[38;5;124m'\u001B[39m\u001B[38;5;124mlineoffsets and positions are unequal sized \u001B[39m\u001B[38;5;124m'\u001B[39m\n\u001B[0;32m   1419\u001B[0m                      \u001B[38;5;124m'\u001B[39m\u001B[38;5;124msequences\u001B[39m\u001B[38;5;124m'\u001B[39m)\n\u001B[0;32m   1420\u001B[0m \u001B[38;5;28;01mif\u001B[39;00m \u001B[38;5;28mlen\u001B[39m(linelengths) \u001B[38;5;241m!=\u001B[39m \u001B[38;5;28mlen\u001B[39m(positions):\n\u001B[1;32m-> 1421\u001B[0m     \u001B[38;5;28;01mraise\u001B[39;00m \u001B[38;5;167;01mValueError\u001B[39;00m(\u001B[38;5;124m'\u001B[39m\u001B[38;5;124mlinelengths and positions are unequal sized \u001B[39m\u001B[38;5;124m'\u001B[39m\n\u001B[0;32m   1422\u001B[0m                      \u001B[38;5;124m'\u001B[39m\u001B[38;5;124msequences\u001B[39m\u001B[38;5;124m'\u001B[39m)\n\u001B[0;32m   1423\u001B[0m \u001B[38;5;28;01mif\u001B[39;00m \u001B[38;5;28mlen\u001B[39m(linewidths) \u001B[38;5;241m!=\u001B[39m \u001B[38;5;28mlen\u001B[39m(positions):\n\u001B[0;32m   1424\u001B[0m     \u001B[38;5;28;01mraise\u001B[39;00m \u001B[38;5;167;01mValueError\u001B[39;00m(\u001B[38;5;124m'\u001B[39m\u001B[38;5;124mlinewidths and positions are unequal sized \u001B[39m\u001B[38;5;124m'\u001B[39m\n\u001B[0;32m   1425\u001B[0m                      \u001B[38;5;124m'\u001B[39m\u001B[38;5;124msequences\u001B[39m\u001B[38;5;124m'\u001B[39m)\n",
      "\u001B[1;31mValueError\u001B[0m: linelengths and positions are unequal sized sequences"
     ]
    },
    {
     "data": {
      "text/plain": "<Figure size 800x400 with 1 Axes>",
      "image/png": "[encoded data removed]"
     },
     "metadata": {},
     "output_type": "display_data"
    }
   ],
   "source": [],
   "metadata": {
    "collapsed": false,
    "ExecuteTime": {
     "end_time": "2024-03-26T13:43:58.094843700Z",
     "start_time": "2024-03-26T13:43:57.940835900Z"
    }
   }
  },
  {
   "cell_type": "markdown",
   "source": [
    "## Inciso (b)\n",
    "\n",
    "Pasar los disparos a tasas de disparo realizando un promedio móvil con una ventana temporal adecuada\n",
    "\n"
   ],
   "metadata": {
    "id": "K2AkzpafPuiY"
   }
  },
  {
   "cell_type": "code",
   "source": [],
   "metadata": {
    "id": "tuo75bi1P-VY"
   },
   "execution_count": null,
   "outputs": []
  },
  {
   "cell_type": "code",
   "source": [
    "#@title Hint\n",
    "\n",
    "#La idea aca es que bineen la data y sumen la cantidad de disparos por cada bin\n",
    "#temporal (y lo mismo con el vector de velocidades). Hay muchas formas de hacer-\n",
    "#lo, aca les dejamos una\n",
    "\n",
    "#(1) Definan un bin temporal que les parezca razonable. La data esta en segundos,\n",
    "#asi que una forma de estimar el sampling rate de los datos es calculando la\n",
    "#media de la diferencia entre tiempos de mediciones consecutivas\n",
    "dt = np.mean(np.diff(tiempos_velocidades))\n",
    "\n",
    "N = len(tiempos_disparos) #numero de neuronas\n",
    "\n",
    "#dado que el dt es de 10ms, promediar de a un segundo nos garantiza juntar varios\n",
    "#disparos por bin\n",
    "ancho_bin = 1\n",
    "\n",
    "#Como los tiempos de las velocidades estan equiespaciados, los sampleamos con el\n",
    "#ancho elegido\n",
    "bin_tiempos_velocidades = tiempos_velocidades[::int(ancho_bin/dt)]\n",
    "bin_velocidades = [np.mean(velocidades[i*int(ancho_bin/dt):(i+1)*int(ancho_bin/dt)]) for i in range(len(bin_tiempos_velocidades)-1)] #velocidad media por bin\n",
    "\n",
    "#Calculamos y almacenamos las tasas de disparo en una matriz\n",
    "tasa_disparo = np.zeros((N,len(bin_tiempos_velocidades)-1))\n",
    "for n in range(tasa_disparo.shape[0]):\n",
    "  tasa_disparo[n,:], _ = np.histogram(tiempos_disparos[n], bins=bin_tiempos_velocidades)"
   ],
   "metadata": {
    "cellView": "form",
    "id": "IEHvVOn4P-vK",
    "ExecuteTime": {
     "end_time": "2024-03-28T19:04:08.756060600Z",
     "start_time": "2024-03-28T19:04:08.683145500Z"
    }
   },
   "execution_count": 5,
   "outputs": []
  },
  {
   "cell_type": "markdown",
   "source": [
    "### Inciso (c)\n",
    "\n",
    "Usando los datos del punto (b), visualizar la respuesta de las neuronas a las distintas velocidades ¿Todas responden de la misma forma?"
   ],
   "metadata": {
    "id": "a7GjY9PwTFUu"
   }
  },
  {
   "cell_type": "code",
   "source": [
    "#Fijate en estas neuronas\n",
    "indices_de_neuronas = [44, 207, 331, 643, 656, 660, 699, 779]"
   ],
   "metadata": {
    "id": "ScKbbbrYTUyr"
   },
   "execution_count": 69,
   "outputs": []
  },
  {
   "cell_type": "markdown",
   "source": [
    "### Inciso (d)\n",
    "\n",
    "Aplicar PCA sobre los datos del punto b y graficar la varianza explicada cumulativa ¿Cuántas dimensiones esperas que sean necesarias para capturar la dinámica relevante del problema?\n"
   ],
   "metadata": {
    "id": "EklsWvGQTUFj"
   }
  },
  {
   "cell_type": "code",
   "source": [],
   "metadata": {
    "id": "eaEIan1RTft-"
   },
   "execution_count": null,
   "outputs": []
  },
  {
   "cell_type": "markdown",
   "source": [
    "### Inciso (e)\n",
    "\n",
    "Visualizar en 2D\n",
    " - PC1 vs. PC2\n",
    " - PC1 vs. Velocidad\n",
    " - PC1 vs. tiempo\n",
    "\n",
    "¿Tiene sentido en base a lo esperado?"
   ],
   "metadata": {
    "id": "kwIdb_Z3VyNL"
   }
  },
  {
   "cell_type": "code",
   "source": [],
   "metadata": {
    "id": "FjQGT4QEXni1"
   },
   "execution_count": null,
   "outputs": []
  }
 ]
}
